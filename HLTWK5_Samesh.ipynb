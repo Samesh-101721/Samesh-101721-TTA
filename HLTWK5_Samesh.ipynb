{
 "cells": [
  {
   "cell_type": "code",
   "execution_count": null,
   "metadata": {},
   "outputs": [],
   "source": [
    "import pandas as pd\n",
    "import altair as alt\n",
    "data = pd.read_csv(\"Real estate valuation data set.csv\")\n",
    "data.head() #To visualise and obtain an understanding of the data"
   ]
  },
  {
   "cell_type": "code",
   "execution_count": null,
   "metadata": {},
   "outputs": [],
   "source": [
    "selection = alt.selection_interval()"
   ]
  },
  {
   "cell_type": "code",
   "execution_count": null,
   "metadata": {},
   "outputs": [],
   "source": [
    "scatter = alt.Chart(data).mark_point().encode(\n",
    "    x='Distance to the nearest station:Q',\n",
    "    y='House price of unit area:Q',\n",
    "    color=alt.condition(selection, 'Number of convenience stores:N', alt.value('lightgray')),\n",
    "    tooltip=['No', 'Transaction date', 'House age', 'Distance to the nearest station', 'Latitude', 'Longitude']\n",
    ").add_selection(\n",
    "    selection\n",
    ")\n",
    "scatter\n",
    "\n",
    "# I have chosen these variables to form the scatter plot because it is worth evaluating which factors result in a higher house price. From the data we can see that generally the house price is higher closer to the nearest station and with a good number of convenice stores (>5) as expected."
   ]
  },
  {
   "cell_type": "code",
   "execution_count": null,
   "metadata": {},
   "outputs": [],
   "source": [
    "bar = alt.Chart(data).mark_bar().encode(\n",
    "    y='House price of unit area',\n",
    "    color='No:N',\n",
    "    x='No:N'\n",
    ")\n",
    "bar\n",
    "# This chart allows us to visualise house prices more clearly so we can pick out which has the highest price (house number: 271) and the lowest price (house number: 114)"
   ]
  },
  {
   "cell_type": "code",
   "execution_count": null,
   "metadata": {},
   "outputs": [],
   "source": [
    "bar = alt.Chart(data).mark_bar().encode(\n",
    "    y='House price of unit area',\n",
    "    color='No:N',\n",
    "    x='No:N'\n",
    ").transform_filter(\n",
    "    selection\n",
    ")\n",
    "\n",
    "scatter & bar\n",
    "# Thia visualisation can help us to see the price in more detial and which houses are closest to a station, for convenience purposes. So the user can select which is most important to them and see the results\n",
    "# In general, from the data it seems that for a higher house price, it is not too far from the train station in comparison to each other and there is a reasonable number of convenience stores nearby (>~5), as expected"
   ]
  },
  {
   "cell_type": "code",
   "execution_count": null,
   "metadata": {},
   "outputs": [],
   "source": [
    "box = alt.Chart(data).mark_boxplot().encode(\n",
    "    x='Number of convenience stores:N',\n",
    "    y='House age:Q'\n",
    ")\n",
    "box\n",
    "# From this it can be tentatively hypothesised that the older the house, the more convenience stores are located nearby, suggesting they are in more built up areas."
   ]
  }
 ],
 "metadata": {
  "interpreter": {
   "hash": "1b7d963c1afa0af1cd521c5db33e32bb15e864855b409454f36b6f68c9368895"
  },
  "kernelspec": {
   "display_name": "Python 3.8.10 64-bit",
   "name": "python3"
  },
  "language_info": {
   "codemirror_mode": {
    "name": "ipython",
    "version": 3
   },
   "file_extension": ".py",
   "mimetype": "text/x-python",
   "name": "python",
   "nbconvert_exporter": "python",
   "pygments_lexer": "ipython3",
   "version": "3.8.10"
  },
  "orig_nbformat": 4
 },
 "nbformat": 4,
 "nbformat_minor": 2
}
