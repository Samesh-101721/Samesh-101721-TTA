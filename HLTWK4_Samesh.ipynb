{
 "cells": [
  {
   "cell_type": "code",
   "execution_count": null,
   "metadata": {},
   "outputs": [],
   "source": [
    "# TASK 1\n",
    "import pandas as pd\n",
    "destination = pd.read_csv(\"HLTWK4_Samesh_CSV.csv\")\n",
    "\n",
    "destination.shape # To calculate the number of rows and columns"
   ]
  },
  {
   "cell_type": "code",
   "execution_count": null,
   "metadata": {},
   "outputs": [],
   "source": [
    "# TASK 2\n",
    "destination.iloc[[3,4,5,6,7,8]]"
   ]
  },
  {
   "cell_type": "code",
   "execution_count": null,
   "metadata": {},
   "outputs": [],
   "source": [
    "# TASK 3\n",
    "destination[\"All_Inlcusive_Hotels\"].mean()"
   ]
  },
  {
   "cell_type": "code",
   "execution_count": null,
   "metadata": {},
   "outputs": [],
   "source": [
    "# TASK 4\n",
    "lowest_score = destination[\"Destination_Score\"].min()\n",
    "lowest_score\n",
    "\n",
    "# To further improve the output, is there anyway I could output the row of the lowest score, e.g. in this case Portugal or can we only output the value of the lowest score numerically?"
   ]
  },
  {
   "cell_type": "code",
   "execution_count": null,
   "metadata": {},
   "outputs": [],
   "source": [
    "# TASK 5\n",
    "highest_score = destination[\"Destination_Score\"].max()\n",
    "highest_score"
   ]
  },
  {
   "cell_type": "code",
   "execution_count": null,
   "metadata": {},
   "outputs": [],
   "source": [
    "# TASK 6\n",
    "inclusive_hotel = destination[\"All_Inlcusive_Hotels\"] > 9\n",
    "\n",
    "inclusive_hotel = destination[inclusive_hotel]\n",
    "\n",
    "inclusive_hotel.head()\n"
   ]
  },
  {
   "cell_type": "code",
   "execution_count": null,
   "metadata": {},
   "outputs": [],
   "source": [
    "# TASK 7\n",
    "score = destination[\"Destination_Score\"] > 8\n",
    "\n",
    "score = destination[score]\n",
    "\n",
    "score.head()\n"
   ]
  },
  {
   "cell_type": "code",
   "execution_count": null,
   "metadata": {},
   "outputs": [],
   "source": [
    "# TASK 8\n",
    "score_1 = destination[\"Destination_Score\"] < 2\n",
    "\n",
    "score_1 = destination[score_1]\n",
    "\n",
    "score_1.head()"
   ]
  },
  {
   "cell_type": "code",
   "execution_count": null,
   "metadata": {},
   "outputs": [],
   "source": [
    "import pandas as pd\n",
    "destination = pd.read_csv(\"HLTWK4_Samesh_CSV.csv\")\n",
    "df = pd.DataFrame(destination)\n",
    "df.plot.scatter(x='Destination_Score', y='All_Inlcusive_Hotels')\n",
    "\n",
    "# From the plot, we can see that there is a general trend that the higher the destination score, the more all inclusive hotels there are, with some outliers over the data series"
   ]
  },
  {
   "cell_type": "code",
   "execution_count": null,
   "metadata": {},
   "outputs": [],
   "source": [
    "import pandas as pd\n",
    "destination = pd.read_csv(\"HLTWK4_Samesh_CSV.csv\")\n",
    "df = pd.DataFrame(destination)\n",
    "df.plot.bar(x='Destination', y='Destination_Score')\n",
    "\n",
    "# I thought a bar chart visualises this quite nicely "
   ]
  }
 ],
 "metadata": {
  "interpreter": {
   "hash": "1b7d963c1afa0af1cd521c5db33e32bb15e864855b409454f36b6f68c9368895"
  },
  "kernelspec": {
   "display_name": "Python 3.8.10 64-bit",
   "name": "python3"
  },
  "language_info": {
   "codemirror_mode": {
    "name": "ipython",
    "version": 3
   },
   "file_extension": ".py",
   "mimetype": "text/x-python",
   "name": "python",
   "nbconvert_exporter": "python",
   "pygments_lexer": "ipython3",
   "version": "3.8.10"
  },
  "orig_nbformat": 4
 },
 "nbformat": 4,
 "nbformat_minor": 2
}
