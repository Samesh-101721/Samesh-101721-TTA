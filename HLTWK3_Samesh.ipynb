{
 "cells": [
  {
   "cell_type": "code",
   "execution_count": 2,
   "metadata": {},
   "outputs": [],
   "source": [
    "#TASK 1\n",
    "my_file = open(\"Numbers.txt\", \"a\")\n",
    "\n",
    "my_file.write(\"3\\n\")\n",
    "my_file.write(\"45\\n\")\n",
    "my_file.write(\"83\\n\")\n",
    "my_file.write(\"21\\n\")\n",
    "\n",
    "my_file.close()"
   ]
  },
  {
   "cell_type": "code",
   "execution_count": null,
   "metadata": {},
   "outputs": [],
   "source": [
    "#TASK 2\n",
    "def mark_grade(mark):\n",
    "    if mark>=91 and mark<=100:\n",
    "        print(\"Your Grade : A*\")\n",
    "    elif mark>=81 and mark<91:\n",
    "        print(\"Your Grade : A\")\n",
    "    elif mark>=71 and mark<81:\n",
    "        print(\"Your Grade : B\")\n",
    "    elif mark>=61 and mark<71:\n",
    "        print(\"Your Grade : C\")\n",
    "    elif mark>=51 and mark<61:\n",
    "        print(\"Your Grade : D\")\n",
    "    elif mark>=41 and mark<51:\n",
    "        print(\"Your Grade : E\")\n",
    "    elif mark>=33 and mark<41:\n",
    "        print(\"Your Grade : F\")\n",
    "    elif mark>=21 and mark<33:\n",
    "        print(\"Your Grade : G\")\n",
    "    elif mark>=0 and mark<21:\n",
    "        print(\"Your Grade : H\")\n",
    "    else: # I HAVE ADDED THIS IS SO IT MAKES THE USER RE-ENTER THEIR MARK IF THEY ENTERED AN INCORRECT VALUE \n",
    "        mark = int(input(\"Please enter a valid percentage mark: \"))\n",
    "        mark_grade(mark)\n",
    "    return mark\n",
    "\n",
    "mark = int(input(\"Please enter your percentage mark: \"))\n",
    "mark_grade(mark)\n",
    "\n",
    "#TASK 2 EXTENSION\n",
    "target = int(input(\"Please enter your target mark: \"))\n",
    "if target > mark:\n",
    "    print(\"Keep going and study a little harder to achieve your goal\")\n",
    "elif target == mark:\n",
    "    print(\"You have reached your target, but I think you can do a little more\")\n",
    "elif target < mark:\n",
    "    print(\"You have exceeded expections - well done!\")"
   ]
  },
  {
   "cell_type": "code",
   "execution_count": null,
   "metadata": {},
   "outputs": [],
   "source": [
    "#NumPy TASK 1\n",
    "import numpy as np\n",
    "array_task1 = np.array([0,1,2,3,4,5,6,7,8,9])\n",
    "print(array_task1)\n"
   ]
  },
  {
   "cell_type": "code",
   "execution_count": null,
   "metadata": {},
   "outputs": [],
   "source": [
    "#NumPy TASK 2\n",
    "import numpy as np\n",
    "array_task2 = np.ones((3, 3), dtype=bool)\n",
    "print(array_task2)"
   ]
  },
  {
   "cell_type": "code",
   "execution_count": null,
   "metadata": {},
   "outputs": [],
   "source": [
    "#NumPy TASK 3\n",
    "import numpy as np\n",
    "array_task3 = np.array([1,2,3,4,5,6,7,8,9])\n",
    "array_task3[array_task3 % 2 == 1]\n",
    "print(array_task3)"
   ]
  },
  {
   "cell_type": "code",
   "execution_count": null,
   "metadata": {},
   "outputs": [],
   "source": [
    "#NumPy TASK 4\n",
    "import numpy as np \n",
    "array_task4 = np.array([ 1,  2,  3,  4,  5,  6,  7,  8,  9, 10]) \n",
    "array_task4[array_task4%2 == 1] = -1 \n",
    "print(array_task4)"
   ]
  },
  {
   "cell_type": "code",
   "execution_count": null,
   "metadata": {},
   "outputs": [],
   "source": [
    "#NumPy TASK 5\n",
    "import numpy as np\n",
    "array_task5 = np.array([1, 2, 3, 4])\n",
    "\n",
    "new_array_task5 = array.reshape(2, 2) \n",
    "\n",
    "print(new_array_task5)"
   ]
  },
  {
   "cell_type": "code",
   "execution_count": null,
   "metadata": {},
   "outputs": [],
   "source": [
    "#NumPy TASK 6\n",
    "import numpy as np\n",
    "a = np.arange(51,60).reshape(3,3)\n",
    "b = np.arange(60,69).reshape(3,3)\n",
    "print (a)\n",
    "print (b)\n",
    "c = np.dot(a, b)\n",
    "print(c)\n",
    "\n",
    "sum = np.sum(c)\n",
    "print(sum)"
   ]
  },
  {
   "cell_type": "code",
   "execution_count": null,
   "metadata": {},
   "outputs": [],
   "source": [
    "#NumPy EXTENSION TASK 1 - I HAD TO DO SOME EXTRA RESEARCH HERE, SO I HAVE USED SOME FUNCTIONS THAT WE MAY NOT HAVE COVERED SO PLEASE LET ME KNOW IF I HAVE USED THEM CORRECTLY \n",
    "import numpy as np\n",
    "a = np.array([1,2,3])\n",
    "new_array_a = np.r_[np.repeat(a, 3), np.tile(a, 3)]\n",
    "# So I can check my understanding:\n",
    "# np.r_ - concatenates the segements together \n",
    "# np.repeat - repeats each index position in the array 3 times \n",
    "# np.tile - repeats the whole array 3 times\n",
    "print(new_array_a)"
   ]
  },
  {
   "cell_type": "code",
   "execution_count": null,
   "metadata": {},
   "outputs": [],
   "source": [
    "#NumPy EXTENSION TASK 2 - I HAD TO DO SOME EXTRA RESEARCH HERE, SO I HAVE USED SOME FUNCTIONS THAT WE MAY NOT HAVE COVERED SO PLEASE LET ME KNOW IF I HAVE USED THEM CORRECTLY \n",
    "import numpy as np\n",
    "a = np.array([1,2,3,4,5])\n",
    "b = np.array([4,5,6,7,8,9])\n",
    "\n",
    "new_array = np.setdiff1d(a,b)\n",
    "# np.setdiff1d - finds the differences between the two arrays \n",
    "print(new_array)\n"
   ]
  },
  {
   "cell_type": "code",
   "execution_count": null,
   "metadata": {},
   "outputs": [],
   "source": [
    "#NumPy EXTENSION TASK 3\n",
    "import numpy as np\n",
    "a = np.array([1,2,3,4,5])\n",
    "b = np.array([4,5,6,7,8,9])\n",
    "\n",
    "sum_a = np.sum(a[2:]) # FOR THE CALCULATION I HAVE INCLUDED 3 HERE \n",
    "sum_b = np.sum(b[:4]) # FOR THE CALCULATION I HAVE INCLUDED 7 HERE\n",
    "sum_a_b = sum_a + sum_b\n",
    "print(sum_a_b)\n",
    "\n"
   ]
  }
 ],
 "metadata": {
  "interpreter": {
   "hash": "1b7d963c1afa0af1cd521c5db33e32bb15e864855b409454f36b6f68c9368895"
  },
  "kernelspec": {
   "display_name": "Python 3.8.10 64-bit",
   "name": "python3"
  },
  "language_info": {
   "codemirror_mode": {
    "name": "ipython",
    "version": 3
   },
   "file_extension": ".py",
   "mimetype": "text/x-python",
   "name": "python",
   "nbconvert_exporter": "python",
   "pygments_lexer": "ipython3",
   "version": "3.8.10"
  },
  "orig_nbformat": 4
 },
 "nbformat": 4,
 "nbformat_minor": 2
}
