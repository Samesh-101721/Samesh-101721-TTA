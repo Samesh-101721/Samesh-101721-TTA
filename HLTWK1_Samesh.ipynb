{
 "cells": [
  {
   "cell_type": "code",
   "execution_count": null,
   "source": [
    "# TASK 1\r\n",
    "\r\n",
    "import random\r\n",
    "MyNumber = random.randint(1,10)\r\n",
    "UserName = input(\"What is your name?\")\r\n",
    "print(\"Hi,\",UserName,\"I am thinking of between 1 and 10.\")\r\n",
    "UserNumber = int(input(\"What number am I thinking of ?\"))\r\n",
    "\r\n",
    "if UserNumber == MyNumber:\r\n",
    "    print(\"Amazing, you guessed my number so quickly\",UserName)\r\n",
    "else:\r\n",
    "    print(\"That is incorrect, try again.\")"
   ],
   "outputs": [],
   "metadata": {}
  },
  {
   "cell_type": "code",
   "execution_count": null,
   "source": [
    "# TASK 2 - For this task I had an idea to include prime numbers alongside odd and even numbers so I did some extra further reading and managed to come up with a programme I think works. Plese could you let me know what you think.\r\n",
    "ChosenNumber = int(input('Pick your favourite number between 1 and 100'))\r\n",
    "prime = False\r\n",
    "\r\n",
    "if ChosenNumber > 1:\r\n",
    "    for i in range(2, ChosenNumber):\r\n",
    "        if (ChosenNumber % i) == 0:\r\n",
    "            prime = True\r\n",
    "            break\r\n",
    "if ChosenNumber % 2 == 0:\r\n",
    "    print(ChosenNumber,\"is an even number. I like even numbers too, because otherwise they are just so odd.\")\r\n",
    "elif prime:\r\n",
    "    print(\"I once got into a fight with\",ChosenNumber,\"- the odds were against me.\")\r\n",
    "elif ChosenNumber % 2 == 1:\r\n",
    "    print(ChosenNumber,\"is PRIMED and ready to go.\") \r\n",
    "\r\n",
    "else:\r\n",
    "    print(\"It looks like you have not entered a number between 1 and 100, please could you try again.\")\r\n",
    "     "
   ],
   "outputs": [],
   "metadata": {}
  },
  {
   "cell_type": "code",
   "execution_count": null,
   "source": [
    "# TASK 3\r\n",
    "Username = input(\"What is your name?\")\r\n",
    "print(\"Hi,\",Username)\r\n",
    "\r\n",
    "Starter = input(\"What is your favourite starter?\")\r\n",
    "Main = input(\"What is your favourite main course?\")\r\n",
    "Dessert = input(\"What is your favourite dessert?\")\r\n",
    "Drink = input(\"What is your favourite drink?\")\r\n",
    "\r\n",
    "print(\"Your favourite meal is\",Starter,\"followed by\",Main,\"alongside\",Dessert,\"with a glass of\",Drink)"
   ],
   "outputs": [],
   "metadata": {}
  },
  {
   "cell_type": "code",
   "execution_count": null,
   "source": [
    "# TASK 4\r\n",
    "MotorcycleValue = 2000\r\n",
    "\r\n",
    "while MotorcycleValue > 1000:\r\n",
    "    print(\"£\",MotorcycleValue)\r\n",
    "    MotorcycleValue = MotorcycleValue * 0.9"
   ],
   "outputs": [],
   "metadata": {}
  },
  {
   "cell_type": "code",
   "execution_count": null,
   "source": [
    "# TASK 5\r\n",
    "Name = input(\"What is your name?\")\r\n",
    "print(\"Hi\",Name,\", welcome to my calculator\")\r\n",
    "Number1 = int(input('Enter your first number: '))\r\n",
    "Number2 = int(input('Enter your second number: '))\r\n",
    "operator = input(\"Which mathematical operation would you like to carry out: Enter + for addition, - for subtraction, * for multiplication, / for division or ** to square (to the power of)?\")\r\n",
    "\r\n",
    "if operator == '+':\r\n",
    "    print(Number1 + Number2)\r\n",
    "elif operator == '-':\r\n",
    "    print(Number1 - Number2)\r\n",
    "elif operator == '*':\r\n",
    "    print(Number1 * Number2)\r\n",
    "elif operator == '/':\r\n",
    "    print(Number1 / Number2)\r\n",
    "elif operator == '**':\r\n",
    "    print(Number1,\"to the power of\",Number2,\"is\",Number1 ** Number2)\r\n",
    "else:\r\n",
    "    print('It looks like you have not typed in a valid mathematical operator, please could you try again.')"
   ],
   "outputs": [],
   "metadata": {}
  }
 ],
 "metadata": {
  "orig_nbformat": 4,
  "language_info": {
   "name": "python",
   "version": "3.8.10",
   "mimetype": "text/x-python",
   "codemirror_mode": {
    "name": "ipython",
    "version": 3
   },
   "pygments_lexer": "ipython3",
   "nbconvert_exporter": "python",
   "file_extension": ".py"
  },
  "kernelspec": {
   "name": "python3",
   "display_name": "Python 3.8.10 64-bit"
  },
  "interpreter": {
   "hash": "1b7d963c1afa0af1cd521c5db33e32bb15e864855b409454f36b6f68c9368895"
  }
 },
 "nbformat": 4,
 "nbformat_minor": 2
}