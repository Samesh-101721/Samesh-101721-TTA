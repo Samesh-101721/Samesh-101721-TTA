{
 "cells": [
  {
   "cell_type": "code",
   "execution_count": null,
   "source": [
    "# TASK 1 - FLOWCHART HAS BEEN SENT ON SLACK \r\n",
    "# FOR THIS TASK i AM CREATING A PROGRAM TO WORK OUT THE TAX ON THE USER'S SALARY\r\n",
    "\r\n",
    "name = input(\"What is your name?\")\r\n",
    "salary = int(input(\"What is your salary?\"))\r\n",
    "\r\n",
    "if salary >= 3000:\r\n",
    "    tax = salary * 25/100\r\n",
    "elif salary >= 2000:\r\n",
    "    tax = salary * 15/100\r\n",
    "elif salary >=1000:\r\n",
    "    tax = salary * 10/100\r\n",
    "else: \r\n",
    "    tax = 0\r\n",
    "\r\n",
    "net = salary - tax\r\n",
    "print(\"Hi\",name,\"your salary details are as follows:\")\r\n",
    "print(\"The tax that you are required to pay is:\",tax)\r\n",
    "print(\"Your net salary is:\",net)\r\n"
   ],
   "outputs": [],
   "metadata": {}
  },
  {
   "cell_type": "code",
   "execution_count": null,
   "source": [
    "#TASK 2 - I WANTED TO TAKE IT A STEP FURTHER AND MAKE A PROGRAM THAT THE USER COULD ENTER IN NY COST VALUE AND DEPRECIATION THEY WANT. \r\n",
    "def Motorbikevalue(Value,Depreciation):\r\n",
    "    while Value > 1000:\r\n",
    "        print(\"£\",Value)\r\n",
    "        Value = Value * Depreciation\r\n",
    "    return Value \r\n",
    "\r\n",
    "Value = int(input(\"What is the value of your motorbike?\"))\r\n",
    "Depreciation = int(input(\"What is the depreciation in value per year as a percentage\"))\r\n",
    "Depreciation = (100-Depreciation)/100\r\n",
    "if Motorbikevalue(Value,Depreciation) > 1000:\r\n",
    "    print(Motorbikevalue(Value))\r\n",
    "else:\r\n",
    "    print(\"The value of your motorbike is now below £1000\")"
   ],
   "outputs": [],
   "metadata": {}
  },
  {
   "cell_type": "code",
   "execution_count": null,
   "source": [
    "# TASK 3\r\n",
    "def calculator(Number1,Number2):\r\n",
    "    if operator == '+':\r\n",
    "        print(Number1,\"+\",Number2,\"=\",Number1+Number2)\r\n",
    "    elif operator == '-':\r\n",
    "        print(Number1,\"-\",Number2,\"=\",Number1-Number2)\r\n",
    "    elif operator == '*':\r\n",
    "        print(Number1,\"x\",Number2,\"=\",Number1*Number2)\r\n",
    "    elif operator == '/':\r\n",
    "        print(Number1,\"/\",Number2,\"=\",Number1/Number2)\r\n",
    "    elif operator == '**':\r\n",
    "        print(Number1,\"to the power of\",Number2,\"is\",Number1 ** Number2)\r\n",
    "    else:\r\n",
    "        print('It looks like you have not typed in a valid mathematical operator, please could you try again.')\r\n",
    "\r\n",
    "Number1 = int(input('Enter your first number: '))\r\n",
    "Number2 = int(input('Enter your second number: '))\r\n",
    "operator = input(\"Which mathematical operation would you like to carry out: Enter + for addition, - for subtraction, * for multiplication, / for division or ** to square (to the power of)?\")\r\n",
    "\r\n",
    "calculator(Number1,Number2)"
   ],
   "outputs": [],
   "metadata": {}
  }
 ],
 "metadata": {
  "orig_nbformat": 4,
  "language_info": {
   "name": "python",
   "version": "3.8.10",
   "mimetype": "text/x-python",
   "codemirror_mode": {
    "name": "ipython",
    "version": 3
   },
   "pygments_lexer": "ipython3",
   "nbconvert_exporter": "python",
   "file_extension": ".py"
  },
  "kernelspec": {
   "name": "python3",
   "display_name": "Python 3.8.10 64-bit"
  },
  "interpreter": {
   "hash": "1b7d963c1afa0af1cd521c5db33e32bb15e864855b409454f36b6f68c9368895"
  }
 },
 "nbformat": 4,
 "nbformat_minor": 2
}